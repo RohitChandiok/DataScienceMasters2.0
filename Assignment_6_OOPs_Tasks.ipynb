{
 "cells": [
  {
   "cell_type": "markdown",
   "id": "ee9fba2e-b67a-4cc6-b611-4a357085c695",
   "metadata": {},
   "source": [
    "# Assignment - 6 - OOPs Tasks"
   ]
  },
  {
   "cell_type": "markdown",
   "id": "3c004162-edaa-4eaa-98d5-a4e6de74ceca",
   "metadata": {},
   "source": [
    "<b>Q1. Create a vehicle class with an init method having instance variables as name_of_vehicle, max_speed \n",
    "and average_of_vehicle.</b> "
   ]
  },
  {
   "cell_type": "code",
   "execution_count": 1,
   "id": "7d3c641a-449c-4cef-9e8f-6166325e6e31",
   "metadata": {},
   "outputs": [],
   "source": [
    "# A1 \n",
    "class Vehicle:\n",
    "    def __init__(self, name_of_vehicle, max_speed, avergae_of_vehicle):\n",
    "        self.name_of_vehicle = name_of_vehicle\n",
    "        self.max_speed = max_speed\n",
    "        self.avergae_of_vehicle = avergae_of_vehicle"
   ]
  },
  {
   "cell_type": "code",
   "execution_count": 2,
   "id": "7b5dde9e-68be-4266-b844-ea9ae76862ec",
   "metadata": {},
   "outputs": [],
   "source": [
    "v = Vehicle(\"Baleno\",120,15)"
   ]
  },
  {
   "cell_type": "code",
   "execution_count": 3,
   "id": "98e8c3b4-bef0-465d-8b7c-ae36dfd19f0d",
   "metadata": {},
   "outputs": [
    {
     "data": {
      "text/plain": [
       "'Baleno'"
      ]
     },
     "execution_count": 3,
     "metadata": {},
     "output_type": "execute_result"
    }
   ],
   "source": [
    "v.name_of_vehicle"
   ]
  },
  {
   "cell_type": "code",
   "execution_count": 4,
   "id": "ca06bc87-2c93-434c-a67e-baea8e5cc27d",
   "metadata": {},
   "outputs": [
    {
     "data": {
      "text/plain": [
       "120"
      ]
     },
     "execution_count": 4,
     "metadata": {},
     "output_type": "execute_result"
    }
   ],
   "source": [
    "v.max_speed"
   ]
  },
  {
   "cell_type": "code",
   "execution_count": 5,
   "id": "1d29ea3d-b6b0-4d4c-a7c8-7550c936e1eb",
   "metadata": {},
   "outputs": [
    {
     "data": {
      "text/plain": [
       "15"
      ]
     },
     "execution_count": 5,
     "metadata": {},
     "output_type": "execute_result"
    }
   ],
   "source": [
    "v.avergae_of_vehicle"
   ]
  },
  {
   "cell_type": "markdown",
   "id": "a0e2d42d-12f8-4670-aad8-0d07d5c0cfac",
   "metadata": {},
   "source": [
    "---\n",
    "<b>\n",
    "Q2.  Create a child class car from the vehicle class created in Que 1, which will inherit the vehicle class. \n",
    "Create a method named seating_capacity which takes capacity as an argument and returns the name of \n",
    "the vehicle and its seating capacity. </b>\n"
   ]
  },
  {
   "cell_type": "code",
   "execution_count": 6,
   "id": "71684dd7-65cb-4825-8758-fdc079fb1085",
   "metadata": {},
   "outputs": [],
   "source": [
    " # A2\n",
    "class Car(Vehicle):\n",
    "    def seating_capacity(self,capacity):\n",
    "        print(f\"Car # {self.name_of_vehicle} has capacity of # {capacity}\")\n",
    "        "
   ]
  },
  {
   "cell_type": "code",
   "execution_count": 7,
   "id": "2cde39c2-8184-4c54-8368-da7e99169999",
   "metadata": {},
   "outputs": [],
   "source": [
    "C = Car(\"Baeno\",120,15)"
   ]
  },
  {
   "cell_type": "code",
   "execution_count": 8,
   "id": "7d4012bb-0177-40fe-a25e-6c650fc5f9ac",
   "metadata": {},
   "outputs": [
    {
     "name": "stdout",
     "output_type": "stream",
     "text": [
      "Car # Baeno has capacity of # 5\n"
     ]
    }
   ],
   "source": [
    "C.seating_capacity(5)"
   ]
  },
  {
   "cell_type": "markdown",
   "id": "dda722b9-b615-4348-acc8-aedbcbaf6ad0",
   "metadata": {},
   "source": [
    "---\n",
    "Q3. What is multiple inheritance? Write a python code to demonstrate multiple inheritance.\n"
   ]
  },
  {
   "cell_type": "markdown",
   "id": "db1b7916-78f9-428c-abd7-17a278645f70",
   "metadata": {},
   "source": [
    "A3 </br>\n",
    "If a class inherits properties and methods from more than one table then it is said be implement Multiple Inheritance."
   ]
  },
  {
   "cell_type": "code",
   "execution_count": 9,
   "id": "18b660f0-3502-4aa8-a1b6-fa929b830dd5",
   "metadata": {},
   "outputs": [],
   "source": [
    "# Multiple Inheritance\n",
    "\n",
    "class Parent1():\n",
    "    def PrintParent1Name(self):\n",
    "        return \"Parent1\"\n",
    "\n",
    "class Parent2():\n",
    "    def PrintParent2Name(self):\n",
    "        return \"Parent2\"\n",
    "\n",
    "    \n",
    "class Child(Parent1, Parent2):\n",
    "    def PrintChildName(self):\n",
    "        return \"Child\""
   ]
  },
  {
   "cell_type": "code",
   "execution_count": 10,
   "id": "acb3e632-6213-4425-b8f0-94d8bfdf92ec",
   "metadata": {},
   "outputs": [
    {
     "name": "stdout",
     "output_type": "stream",
     "text": [
      "Parent1\n",
      "Parent2\n",
      "Child\n",
      "Parent1\n",
      "Parent2\n"
     ]
    }
   ],
   "source": [
    "P1 = Parent1()\n",
    "P2 = Parent2()\n",
    "C = Child()\n",
    "\n",
    "print(P1.PrintParent1Name())\n",
    "print(P2.PrintParent2Name())\n",
    "print(C.PrintChildName())\n",
    "print(C.PrintParent1Name())\n",
    "print(C.PrintParent2Name())"
   ]
  },
  {
   "cell_type": "markdown",
   "id": "48d962cf-f057-44a3-b5b1-da82c00607b8",
   "metadata": {},
   "source": [
    "---\n",
    "Q4. What are getter and setter in python? Create a class and create a getter and a setter method in this \n",
    "class."
   ]
  },
  {
   "cell_type": "markdown",
   "id": "1b648ba3-2ca6-491e-8139-7111eace95fd",
   "metadata": {},
   "source": [
    "A4 </br>\n",
    "Getters are used in Python to fetch value of a private variable of a class\n",
    "Setters are used in Python to change value of a private variable of a class"
   ]
  },
  {
   "cell_type": "code",
   "execution_count": 11,
   "id": "86d08ad0-9807-4a56-9dc1-7ffe06803c9b",
   "metadata": {},
   "outputs": [],
   "source": [
    "class User:\n",
    "    def __init__(self, name):\n",
    "        self._name=name\n",
    "    def getName(self):\n",
    "        return self._name\n",
    "    def setName(self, newName):\n",
    "        self._name = newName"
   ]
  },
  {
   "cell_type": "code",
   "execution_count": 12,
   "id": "bb340f70-9bca-4bfa-aa72-87eeda2a117b",
   "metadata": {},
   "outputs": [],
   "source": [
    "user = User(\"Rohit\")"
   ]
  },
  {
   "cell_type": "code",
   "execution_count": 13,
   "id": "beb75317-9bf7-44c9-b142-8a0bd6c2f5cd",
   "metadata": {},
   "outputs": [
    {
     "name": "stdout",
     "output_type": "stream",
     "text": [
      "Rohit\n"
     ]
    }
   ],
   "source": [
    "print(user.getName())"
   ]
  },
  {
   "cell_type": "code",
   "execution_count": 14,
   "id": "bda47ed7-9679-4829-bd34-f35b94ce5019",
   "metadata": {},
   "outputs": [],
   "source": [
    "user.setName(\"Chandiok\")"
   ]
  },
  {
   "cell_type": "code",
   "execution_count": 15,
   "id": "9d0dcb4c-3d43-494a-966a-461415a0426c",
   "metadata": {},
   "outputs": [
    {
     "name": "stdout",
     "output_type": "stream",
     "text": [
      "Chandiok\n"
     ]
    }
   ],
   "source": [
    "print(user.getName())"
   ]
  },
  {
   "cell_type": "markdown",
   "id": "6562a447-d254-4f13-909e-4de1c2570ed3",
   "metadata": {},
   "source": [
    "---\n",
    "<b>Q5.What is method overriding in python? Write a python code to demonstrate method overriding.</b>"
   ]
  },
  {
   "cell_type": "markdown",
   "id": "9046cea1-b63d-403f-9f01-14484ffafc98",
   "metadata": {},
   "source": [
    "A5 </br>\n",
    "\n",
    "Method Overriding refers to change in the function implementation in child class "
   ]
  },
  {
   "cell_type": "code",
   "execution_count": 16,
   "id": "bc4d7b93-2c6d-4fbb-a7f0-cfa58a0a4ce1",
   "metadata": {},
   "outputs": [],
   "source": [
    "class Parent1():\n",
    "    def PrintName(self):\n",
    "        return \"Parent\"\n",
    "\n",
    "    \n",
    "class Child(Parent1):\n",
    "    def PrintName(self):\n",
    "        return \"Child\""
   ]
  },
  {
   "cell_type": "code",
   "execution_count": 17,
   "id": "630d3c3c-48e3-4e87-af71-9c20ed921054",
   "metadata": {},
   "outputs": [
    {
     "name": "stdout",
     "output_type": "stream",
     "text": [
      "Child\n"
     ]
    }
   ],
   "source": [
    "C = Child()\n",
    "print(C.PrintName())"
   ]
  },
  {
   "cell_type": "code",
   "execution_count": null,
   "id": "86629cba-dea0-4036-aca1-3971b75a6b71",
   "metadata": {},
   "outputs": [],
   "source": []
  }
 ],
 "metadata": {
  "kernelspec": {
   "display_name": "Python 3 (ipykernel)",
   "language": "python",
   "name": "python3"
  },
  "language_info": {
   "codemirror_mode": {
    "name": "ipython",
    "version": 3
   },
   "file_extension": ".py",
   "mimetype": "text/x-python",
   "name": "python",
   "nbconvert_exporter": "python",
   "pygments_lexer": "ipython3",
   "version": "3.10.8"
  }
 },
 "nbformat": 4,
 "nbformat_minor": 5
}
