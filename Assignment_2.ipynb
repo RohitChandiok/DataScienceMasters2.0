{
 "cells": [
  {
   "cell_type": "markdown",
   "id": "fc9fe860-6202-4fbf-94d0-a39d840d872a",
   "metadata": {},
   "source": [
    "# Assignment 2"
   ]
  },
  {
   "cell_type": "markdown",
   "id": "aca20ad0-643e-4a69-8072-67af8cab987d",
   "metadata": {},
   "source": [
    "<b>Q1. How do you comment code in Python? What are the different types of comments?</b>"
   ]
  },
  {
   "cell_type": "markdown",
   "id": "7bf05df2-9507-4c76-b27d-fcb4b4d454b2",
   "metadata": {},
   "source": [
    "A1 </br>\n",
    "Comments in Pyton are of tw types\n",
    "\n",
    "1. Single Line Comments : \"#\" symbol is used for Single Line Comments\n",
    "2. Multi Line Comments : three double quotes are used for multi line comments"
   ]
  },
  {
   "cell_type": "code",
   "execution_count": 1,
   "id": "aa20ca25-0e90-4375-b671-e103d1dd08e4",
   "metadata": {},
   "outputs": [
    {
     "name": "stdout",
     "output_type": "stream",
     "text": [
      "\n"
     ]
    }
   ],
   "source": [
    "# Single Line Comments\n",
    "\"\"\"\n",
    "Multi Line Comments\n",
    "\"\"\"\n",
    "print(\"\")"
   ]
  },
  {
   "cell_type": "markdown",
   "id": "7dba4d51-755d-4839-a76a-9517a949a9ff",
   "metadata": {},
   "source": [
    "---"
   ]
  },
  {
   "cell_type": "markdown",
   "id": "df041e46-15de-4097-8af8-7344c78811a4",
   "metadata": {},
   "source": [
    "<b>Q2. What are variables in Python? How do you declare and assign values to variables? </b>"
   ]
  },
  {
   "cell_type": "markdown",
   "id": "35951c02-9c10-4030-9fd1-a20b3d1b8261",
   "metadata": {},
   "source": [
    "A2 </br>\n",
    "Variables in Python are used to store data. The following are the format of declarion and assignment of valiues to a variable.\n",
    "</br>\n",
    "<b>varName=Value</b>"
   ]
  },
  {
   "cell_type": "code",
   "execution_count": 2,
   "id": "795c34ac-1f4b-497c-b95f-e129326dbd4a",
   "metadata": {},
   "outputs": [],
   "source": [
    "name=\"Rohit\""
   ]
  },
  {
   "cell_type": "code",
   "execution_count": 3,
   "id": "5b8dea25-fb15-4bfb-975c-0336875176a3",
   "metadata": {},
   "outputs": [
    {
     "name": "stdout",
     "output_type": "stream",
     "text": [
      "Rohit\n"
     ]
    }
   ],
   "source": [
    "print(name)"
   ]
  },
  {
   "cell_type": "markdown",
   "id": "d9233e2a-0ce6-49a8-a1ed-8084531d2caf",
   "metadata": {},
   "source": [
    "---"
   ]
  },
  {
   "cell_type": "markdown",
   "id": "782c3240-92e2-4efa-94d6-7092ca4a2769",
   "metadata": {},
   "source": [
    "<b>Q3. How do you convert one data type to another in Python? </b>"
   ]
  },
  {
   "cell_type": "markdown",
   "id": "2976849b-66a5-4d94-9b0c-526c6bdac9c0",
   "metadata": {},
   "source": [
    "A3<br/>\n",
    "Type Conversion can be done in the following format :- \n",
    "\n",
    "1. String to Integer # int('1')\n",
    "2. Integer to String # str(1)\n",
    "3. Integer to Float # double(1)\n",
    "4. Float to Integer # int(1.0)\n",
    "5. String to Float  # float('1.0')\n",
    "6. Float to String # str(1.0)"
   ]
  },
  {
   "cell_type": "code",
   "execution_count": 4,
   "id": "4def0deb-63a9-409f-b14f-59584fe937b4",
   "metadata": {},
   "outputs": [
    {
     "name": "stdout",
     "output_type": "stream",
     "text": [
      "<class 'int'>\n",
      "<class 'float'>\n",
      "<class 'str'>\n"
     ]
    }
   ],
   "source": [
    "num=1\n",
    "print(type(num))\n",
    "float_num=1.0\n",
    "print(type(float_num))\n",
    "StringVal='1'\n",
    "print(type(StringVal))"
   ]
  },
  {
   "cell_type": "code",
   "execution_count": 5,
   "id": "19d390e0-20b8-4ab6-95e7-dda4e2747c3c",
   "metadata": {},
   "outputs": [
    {
     "name": "stdout",
     "output_type": "stream",
     "text": [
      "<class 'int'>\n",
      "<class 'str'>\n",
      "<class 'float'>\n",
      "<class 'int'>\n",
      "<class 'float'>\n",
      "<class 'str'>\n"
     ]
    }
   ],
   "source": [
    "# String to Integer\n",
    "strToInt = int(StringVal)\n",
    "print(type(strToInt))\n",
    "\n",
    "# Integer to String\n",
    "intToStr = str(num)\n",
    "print(type(intToStr))\n",
    "\n",
    "# Integer to Float\n",
    "intToFloat = float(num)\n",
    "print(type(intToFloat))\n",
    "\n",
    "# Float to Integer\n",
    "floatToInt = int(float_num)\n",
    "print(type(floatToInt))\n",
    "\n",
    "# String to Float \n",
    "strToFloat = float(StringVal)\n",
    "print(type(strToFloat))\n",
    "\n",
    "# Float to String \n",
    "floatToStr = str(float_num)\n",
    "print(type(floatToStr))"
   ]
  },
  {
   "cell_type": "markdown",
   "id": "b3cd34d3-b173-4e79-9b10-ff57c6b86a46",
   "metadata": {},
   "source": [
    "---\n",
    "<b>Q4. How do you write and execute a Python script from the command line? </b>\n",
    "<br>\n",
    "A4 # The following is the process to execute python file from command line :- \n",
    "        \n",
    "<b><i>        python fileName.py    </i></b>\n",
    "\n",
    "---"
   ]
  },
  {
   "cell_type": "markdown",
   "id": "ae56b373-0e21-4c04-9756-2086450018ec",
   "metadata": {},
   "source": [
    "<b>Q5. Given a list my_list = [1, 2, 3, 4, 5], write the code to slice the list and obtain the sub-list [2, 3]. </b>\n"
   ]
  },
  {
   "cell_type": "code",
   "execution_count": 6,
   "id": "2041bc53-4d12-4df6-87bc-b67fd61370da",
   "metadata": {},
   "outputs": [
    {
     "name": "stdout",
     "output_type": "stream",
     "text": [
      "[2, 3]\n"
     ]
    }
   ],
   "source": [
    "my_list = [1, 2, 3, 4, 5]\n",
    "sub_list = my_list[1:3]\n",
    "print(sub_list)"
   ]
  },
  {
   "cell_type": "markdown",
   "id": "8dab00be-7c4a-4e12-86eb-712066b2ea69",
   "metadata": {},
   "source": [
    "---\n",
    "<b>Q6. What is a complex number in mathematics, and how is it represented in Python? </b>\n"
   ]
  },
  {
   "cell_type": "markdown",
   "id": "ee1cae5f-dc46-431f-b6a4-cf7de056ccbb",
   "metadata": {},
   "source": [
    "A6\n",
    "Complex numbers are the numbers that are expressed in the form of a+ib where, a,b are real numbers and 'i' is an imaginary number."
   ]
  },
  {
   "cell_type": "code",
   "execution_count": 7,
   "id": "d3f26f7c-221b-4adb-acd7-46bab3596f4e",
   "metadata": {},
   "outputs": [
    {
     "name": "stdout",
     "output_type": "stream",
     "text": [
      "The real part of complex number is : 1.0\n",
      "The imaginary part of complex number is : 2.0\n"
     ]
    }
   ],
   "source": [
    "\n",
    "import cmath\n",
    " \n",
    "# Initializing complex number\n",
    "z = 1+2j\n",
    "# Print the parts of Complex No.\n",
    "print(\"The real part of complex number is : \", end=\"\")\n",
    "print(z.real)\n",
    " \n",
    "print(\"The imaginary part of complex number is : \", end=\"\")\n",
    "print(z.imag)"
   ]
  },
  {
   "cell_type": "markdown",
   "id": "d7bcae4d-0f4d-410a-a50e-92df223bd34a",
   "metadata": {},
   "source": [
    "---\n",
    "<b>Q7. What is the correct way to declare a variable named age and assign the value 25 to it? </b>\n"
   ]
  },
  {
   "cell_type": "code",
   "execution_count": 8,
   "id": "63dfcd4d-5629-431a-a236-3dd2507da303",
   "metadata": {},
   "outputs": [
    {
     "data": {
      "text/plain": [
       "25"
      ]
     },
     "execution_count": 8,
     "metadata": {},
     "output_type": "execute_result"
    }
   ],
   "source": [
    "# A7\n",
    "age=25\n",
    "age"
   ]
  },
  {
   "cell_type": "markdown",
   "id": "23ffd563-bcfd-47dc-a81e-57c787669dba",
   "metadata": {},
   "source": [
    "---\n",
    "<b>Q8. Declare a variable named price and assign the value 9.99 to it. What data type does this variable \n",
    "belong to?</b>"
   ]
  },
  {
   "cell_type": "code",
   "execution_count": 9,
   "id": "ece61765-2b28-47e2-8f88-6a434d470341",
   "metadata": {},
   "outputs": [
    {
     "data": {
      "text/plain": [
       "float"
      ]
     },
     "execution_count": 9,
     "metadata": {},
     "output_type": "execute_result"
    }
   ],
   "source": [
    "# A8\n",
    "price=9.99\n",
    "type(price)"
   ]
  },
  {
   "cell_type": "markdown",
   "id": "20104c02-a7c4-4623-8aa7-c23531d032ac",
   "metadata": {},
   "source": [
    "---\n",
    "<b>Q9. Create a variable named name and assign your full name to it as a string. How would you print the \n",
    "value of this variable? </b>"
   ]
  },
  {
   "cell_type": "code",
   "execution_count": 10,
   "id": "8434b34f-73f1-40e0-a4b3-a1935001b028",
   "metadata": {},
   "outputs": [
    {
     "name": "stdout",
     "output_type": "stream",
     "text": [
      "Rohit Chandiok\n"
     ]
    }
   ],
   "source": [
    "# A9\n",
    "name=\"Rohit Chandiok\"\n",
    "print(name)"
   ]
  },
  {
   "cell_type": "markdown",
   "id": "511343ad-a155-4c31-8138-37c3135c0baa",
   "metadata": {},
   "source": [
    "---\n",
    "<a>\n",
    "Q10. Given the string \"Hello, World!\", extract the substring \"World\".\n",
    "</a>"
   ]
  },
  {
   "cell_type": "code",
   "execution_count": 11,
   "id": "63360282-6fc7-49a3-8109-9faefaea42b9",
   "metadata": {},
   "outputs": [
    {
     "name": "stdout",
     "output_type": "stream",
     "text": [
      "World\n"
     ]
    }
   ],
   "source": [
    "# A 10\n",
    "string=\"Hello World!\"\n",
    "print(string[6:11])"
   ]
  },
  {
   "cell_type": "markdown",
   "id": "407c8a9b-a65d-4e86-a2cd-b262d70cfd4b",
   "metadata": {},
   "source": [
    "---\n",
    "<b>\n",
    "Q11. Create a variable named \"is_student\" and assign it a boolean value indicating whether you are \n",
    "currently a student or not\n",
    "</b>"
   ]
  },
  {
   "cell_type": "code",
   "execution_count": 12,
   "id": "bf25d99a-e388-44ef-b146-fcc52c923768",
   "metadata": {},
   "outputs": [
    {
     "data": {
      "text/plain": [
       "False"
      ]
     },
     "execution_count": 12,
     "metadata": {},
     "output_type": "execute_result"
    }
   ],
   "source": [
    "is_student = False\n",
    "is_student"
   ]
  },
  {
   "cell_type": "code",
   "execution_count": null,
   "id": "bc1e0cbf-732f-441c-9e11-c5f015743856",
   "metadata": {},
   "outputs": [],
   "source": []
  }
 ],
 "metadata": {
  "kernelspec": {
   "display_name": "Python 3 (ipykernel)",
   "language": "python",
   "name": "python3"
  },
  "language_info": {
   "codemirror_mode": {
    "name": "ipython",
    "version": 3
   },
   "file_extension": ".py",
   "mimetype": "text/x-python",
   "name": "python",
   "nbconvert_exporter": "python",
   "pygments_lexer": "ipython3",
   "version": "3.10.8"
  }
 },
 "nbformat": 4,
 "nbformat_minor": 5
}
