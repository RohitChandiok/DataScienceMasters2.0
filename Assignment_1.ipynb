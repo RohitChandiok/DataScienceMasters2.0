{
 "cells": [
  {
   "cell_type": "markdown",
   "id": "9cbe66bf-6d77-4c5c-8d27-126432a6c37a",
   "metadata": {},
   "source": [
    "# Assignment 1"
   ]
  },
  {
   "cell_type": "markdown",
   "id": "22760994-0a56-4761-ad82-230cd03456ea",
   "metadata": {},
   "source": [
    "<b>Q1. Create one variable containing following type of data:\n",
    "\n",
    "(i)\tstring\n",
    "\n",
    "(ii)\tlist\n",
    "\n",
    "(iii)\tfloat\n",
    "\n",
    "(iv)\ttuple\n",
    "</b>"
   ]
  },
  {
   "cell_type": "code",
   "execution_count": 1,
   "id": "adf4e449-7b38-49eb-ad90-24ec20fa5ec2",
   "metadata": {},
   "outputs": [
    {
     "name": "stdout",
     "output_type": "stream",
     "text": [
      "Rohit Chandiok\n"
     ]
    },
    {
     "data": {
      "text/plain": [
       "str"
      ]
     },
     "execution_count": 1,
     "metadata": {},
     "output_type": "execute_result"
    }
   ],
   "source": [
    "#A1 (i)\n",
    "name=\"Rohit Chandiok\"\n",
    "print(name)\n",
    "type(name)"
   ]
  },
  {
   "cell_type": "code",
   "execution_count": 2,
   "id": "b6f6317c-cdc6-4fe4-9bf9-547167f282e7",
   "metadata": {},
   "outputs": [
    {
     "name": "stdout",
     "output_type": "stream",
     "text": [
      "[1, 2, 3, 4, 5, 6, 7, 8, 9, 10, 1, 2, 2]\n"
     ]
    },
    {
     "data": {
      "text/plain": [
       "list"
      ]
     },
     "execution_count": 2,
     "metadata": {},
     "output_type": "execute_result"
    }
   ],
   "source": [
    "# A1 (ii)\n",
    "Numbers=[1,2,3,4,5,6,7,8,9,10,1,2,2]\n",
    "print(Numbers)\n",
    "type(Numbers)"
   ]
  },
  {
   "cell_type": "code",
   "execution_count": 3,
   "id": "e2160825-9c8f-4056-9548-95c3f81987c0",
   "metadata": {},
   "outputs": [
    {
     "name": "stdout",
     "output_type": "stream",
     "text": [
      "10.4\n"
     ]
    },
    {
     "data": {
      "text/plain": [
       "float"
      ]
     },
     "execution_count": 3,
     "metadata": {},
     "output_type": "execute_result"
    }
   ],
   "source": [
    "# A1 (iii)\n",
    "speed=10.4\n",
    "print(speed)\n",
    "type(speed)"
   ]
  },
  {
   "cell_type": "code",
   "execution_count": 4,
   "id": "fe67d52a-ba9f-4eaf-ac35-669c7721b7b3",
   "metadata": {},
   "outputs": [
    {
     "name": "stdout",
     "output_type": "stream",
     "text": [
      "(1, 2, 3, 4, 5)\n"
     ]
    },
    {
     "data": {
      "text/plain": [
       "tuple"
      ]
     },
     "execution_count": 4,
     "metadata": {},
     "output_type": "execute_result"
    }
   ],
   "source": [
    "# A1 (iv)\n",
    "Tup_Numbers=(1,2,3,4,5)\n",
    "print(Tup_Numbers)\n",
    "type(Tup_Numbers)"
   ]
  },
  {
   "cell_type": "markdown",
   "id": "2315bd3e-95f2-4d28-8b5a-78eda02ab658",
   "metadata": {},
   "source": [
    "---"
   ]
  },
  {
   "cell_type": "markdown",
   "id": "14cc2de2-9e66-4c36-a779-77b2862a739b",
   "metadata": {},
   "source": [
    "<b>\n",
    "Q2. Given are some following variables containing data:\n",
    "\n",
    "(i)\tvar1 = ‘ ‘\n",
    "\n",
    "(ii)\tvar2 = ‘[ DS , ML , Python]’\n",
    "\n",
    "(iii)\tvar3 = [ ‘DS’ , ’ML’ , ‘Python’ ]\n",
    "\n",
    "(iv)\tvar4 = 1.\n",
    "\n",
    "\n",
    "What will be the data type of the above given variable.\n",
    "</b>"
   ]
  },
  {
   "cell_type": "code",
   "execution_count": 5,
   "id": "4d8209d3-10ae-4b10-abc2-e9290af86a25",
   "metadata": {},
   "outputs": [
    {
     "data": {
      "text/plain": [
       "str"
      ]
     },
     "execution_count": 5,
     "metadata": {},
     "output_type": "execute_result"
    }
   ],
   "source": [
    "# A2 (i)\n",
    "var1 = ' '\n",
    "type(var1)"
   ]
  },
  {
   "cell_type": "code",
   "execution_count": 6,
   "id": "555c9535-a34a-4a8a-9bc9-df6b59ada712",
   "metadata": {},
   "outputs": [
    {
     "data": {
      "text/plain": [
       "str"
      ]
     },
     "execution_count": 6,
     "metadata": {},
     "output_type": "execute_result"
    }
   ],
   "source": [
    "# A2 (ii)\n",
    "var2 = '[DS,ML,Python]'\n",
    "type(var2)"
   ]
  },
  {
   "cell_type": "code",
   "execution_count": 7,
   "id": "1345b1bc-65b9-476d-b1e1-c0a57565e0c4",
   "metadata": {},
   "outputs": [
    {
     "data": {
      "text/plain": [
       "list"
      ]
     },
     "execution_count": 7,
     "metadata": {},
     "output_type": "execute_result"
    }
   ],
   "source": [
    "# A2 (iii)\n",
    "var3=['DS','ML','Python']\n",
    "type(var3)"
   ]
  },
  {
   "cell_type": "code",
   "execution_count": 8,
   "id": "af6ab336-c00d-43d1-99c1-0235aa50152f",
   "metadata": {},
   "outputs": [
    {
     "data": {
      "text/plain": [
       "int"
      ]
     },
     "execution_count": 8,
     "metadata": {},
     "output_type": "execute_result"
    }
   ],
   "source": [
    "# A2 (iv)\n",
    "var4=1\n",
    "type(var4)"
   ]
  },
  {
   "cell_type": "markdown",
   "id": "9c4076ee-1935-4286-8eb4-987eca73504f",
   "metadata": {},
   "source": [
    "---"
   ]
  },
  {
   "cell_type": "markdown",
   "id": "03f5014f-d20a-4b3d-a2e6-b8a94ea5b427",
   "metadata": {},
   "source": [
    "<b>\n",
    "Q3. Explain the use of the following operators using an example:\n",
    "\n",
    "(i)\t/\n",
    "\n",
    "(ii)\t% \n",
    "\n",
    "(iii)\t//\n",
    "\n",
    "(iv)\t**\n",
    "</b>"
   ]
  },
  {
   "cell_type": "markdown",
   "id": "f9d6ecc7-add2-45e2-a0eb-b536836ec156",
   "metadata": {},
   "source": [
    "A3 (i) / </br>\n",
    "'/' is the devision opertator, It is used to give the result of devision of two numbers"
   ]
  },
  {
   "cell_type": "code",
   "execution_count": 9,
   "id": "55ab2b7c-6a93-4a31-a2be-bdf4d0755b65",
   "metadata": {},
   "outputs": [
    {
     "data": {
      "text/plain": [
       "3.3333333333333335"
      ]
     },
     "execution_count": 9,
     "metadata": {},
     "output_type": "execute_result"
    }
   ],
   "source": [
    "10/3"
   ]
  },
  {
   "cell_type": "markdown",
   "id": "8cbd9e46-1fda-42f9-a5d0-4b72328eabbe",
   "metadata": {},
   "source": [
    "A3 (ii) % </br>\n",
    "'%' Modulus opertator is used to fetch the remainder after devison of two numbers"
   ]
  },
  {
   "cell_type": "code",
   "execution_count": 10,
   "id": "bf0d5c45-b3d4-44f9-8820-536ad82a9c64",
   "metadata": {},
   "outputs": [
    {
     "data": {
      "text/plain": [
       "1"
      ]
     },
     "execution_count": 10,
     "metadata": {},
     "output_type": "execute_result"
    }
   ],
   "source": [
    "10%3"
   ]
  },
  {
   "cell_type": "markdown",
   "id": "70134af1-feee-4de5-b414-0c99875fb83c",
   "metadata": {},
   "source": [
    "A3 (iii) // </br>\n",
    "'//' This is floor dision operator, It discards the decimal values from result of division"
   ]
  },
  {
   "cell_type": "code",
   "execution_count": 11,
   "id": "0312c288-ab46-4db9-870a-23c073035c15",
   "metadata": {},
   "outputs": [
    {
     "data": {
      "text/plain": [
       "3"
      ]
     },
     "execution_count": 11,
     "metadata": {},
     "output_type": "execute_result"
    }
   ],
   "source": [
    "10//3"
   ]
  },
  {
   "cell_type": "markdown",
   "id": "f3ab4327-8024-4330-856e-d13fa4f91666",
   "metadata": {},
   "source": [
    "A3 (iv) ** </br>\n",
    "'**' is the exponent operator. It is used to find exponential operations </br>\n",
    "3 ** 3 is same as the result of 3*3*3"
   ]
  },
  {
   "cell_type": "code",
   "execution_count": 12,
   "id": "a6c9d63d-bcf6-4fda-9bcf-104aeb2f54e0",
   "metadata": {},
   "outputs": [
    {
     "data": {
      "text/plain": [
       "27"
      ]
     },
     "execution_count": 12,
     "metadata": {},
     "output_type": "execute_result"
    }
   ],
   "source": [
    "3**3"
   ]
  },
  {
   "cell_type": "code",
   "execution_count": 13,
   "id": "a7c089a2-4f90-4850-8817-f49d82674afd",
   "metadata": {},
   "outputs": [
    {
     "data": {
      "text/plain": [
       "27"
      ]
     },
     "execution_count": 13,
     "metadata": {},
     "output_type": "execute_result"
    }
   ],
   "source": [
    "3*3*3"
   ]
  },
  {
   "cell_type": "markdown",
   "id": "ed708a59-ea47-4b03-b130-30ef6caade53",
   "metadata": {},
   "source": [
    "---"
   ]
  },
  {
   "cell_type": "markdown",
   "id": "435da9c4-ca86-4b69-aad9-17a739663401",
   "metadata": {},
   "source": [
    "<b>Q4. Create a list of length 10 of your choice containing multiple types of data. Using for loop print the \n",
    "element and its data type.</b>"
   ]
  },
  {
   "cell_type": "code",
   "execution_count": 14,
   "id": "e2676e85-8100-4ac4-9991-d08fe1ce3193",
   "metadata": {},
   "outputs": [
    {
     "name": "stdout",
     "output_type": "stream",
     "text": [
      "f(Element : {2} and Element Type : {3}) 1 <class 'int'>\n",
      "f(Element : {2} and Element Type : {3}) 2 <class 'int'>\n",
      "f(Element : {2} and Element Type : {3}) Rohit <class 'str'>\n",
      "f(Element : {2} and Element Type : {3}) 2.5 <class 'float'>\n",
      "f(Element : {2} and Element Type : {3}) [1, 2, 3] <class 'list'>\n",
      "f(Element : {2} and Element Type : {3}) (3, 2, 1) <class 'tuple'>\n",
      "f(Element : {2} and Element Type : {3}) Data Science <class 'str'>\n",
      "f(Element : {2} and Element Type : {3}) True <class 'bool'>\n",
      "f(Element : {2} and Element Type : {3}) False <class 'bool'>\n",
      "f(Element : {2} and Element Type : {3}) 20.1 <class 'float'>\n"
     ]
    }
   ],
   "source": [
    "# A4\n",
    "a4_list = [1,2,'Rohit',2.5,[1,2,3],(3,2,1),'Data Science', True, False,20.1]\n",
    "for val in a4_list:\n",
    "    print(\"f(Element : {2} and Element Type : {3})\",val,type(val))"
   ]
  },
  {
   "cell_type": "markdown",
   "id": "f3ddec20-a301-4cc9-abc7-83902d098b2b",
   "metadata": {},
   "source": [
    "---"
   ]
  },
  {
   "cell_type": "markdown",
   "id": "3b54371c-144e-41a5-a9b8-e1d3a66a79df",
   "metadata": {},
   "source": [
    "<b>\n",
    "Q5. Using a while loop, verify if the number A is purely divisible by number B and if so then how many \n",
    "times it can be divisible.\n",
    "</b>"
   ]
  },
  {
   "cell_type": "code",
   "execution_count": 24,
   "id": "e56d3100-a734-429f-bbcb-773925c51f98",
   "metadata": {},
   "outputs": [
    {
     "name": "stdin",
     "output_type": "stream",
     "text": [
      "Enter First Number 10\n",
      "Enter Second Number 2\n"
     ]
    },
    {
     "name": "stdout",
     "output_type": "stream",
     "text": [
      "Number # 10 is completely devisible by Number # 2 , 5 times\n"
     ]
    }
   ],
   "source": [
    "# A5\n",
    "num1 = int(input(\"Enter First Number\"))\n",
    "num2 = int(input(\"Enter Second Number\"))\n",
    "if num1 % num2 == 0:\n",
    "    print(f\"Number # {num1} is completely devisible by Number # {num2} , {int(num1/num2)} times\")\n",
    "else:\n",
    "    print(f\"Number # {num1} and Number # {num2} are not Purely divisible\")"
   ]
  },
  {
   "cell_type": "markdown",
   "id": "920190e2-749e-4942-a409-c407e76da1b6",
   "metadata": {},
   "source": [
    "---"
   ]
  },
  {
   "cell_type": "markdown",
   "id": "615c4a85-4c8f-4397-bc49-eec2110491a5",
   "metadata": {},
   "source": [
    "<b>Q6. Create a list containing 25 int type data. Using for loop and if-else condition print if the element is \n",
    "divisible by 3 or not. </b>"
   ]
  },
  {
   "cell_type": "code",
   "execution_count": 16,
   "id": "ac96de1e-cab2-4931-bea1-aa59dc582725",
   "metadata": {},
   "outputs": [
    {
     "name": "stdout",
     "output_type": "stream",
     "text": [
      "Element # 1 is Not - Divisible by 3\n",
      "Element # 2 is Not - Divisible by 3\n",
      "Element # 3 is Divisible by 3\n",
      "Element # 4 is Not - Divisible by 3\n",
      "Element # 5 is Not - Divisible by 3\n",
      "Element # 6 is Divisible by 3\n",
      "Element # 7 is Not - Divisible by 3\n",
      "Element # 8 is Not - Divisible by 3\n",
      "Element # 9 is Divisible by 3\n",
      "Element # 10 is Not - Divisible by 3\n",
      "Element # 11 is Not - Divisible by 3\n",
      "Element # 12 is Divisible by 3\n",
      "Element # 13 is Not - Divisible by 3\n",
      "Element # 14 is Not - Divisible by 3\n",
      "Element # 15 is Divisible by 3\n",
      "Element # 16 is Not - Divisible by 3\n",
      "Element # 17 is Not - Divisible by 3\n",
      "Element # 18 is Divisible by 3\n",
      "Element # 19 is Not - Divisible by 3\n",
      "Element # 20 is Not - Divisible by 3\n",
      "Element # 21 is Divisible by 3\n",
      "Element # 22 is Not - Divisible by 3\n",
      "Element # 23 is Not - Divisible by 3\n",
      "Element # 24 is Divisible by 3\n",
      "Element # 25 is Not - Divisible by 3\n"
     ]
    }
   ],
   "source": [
    "# A6\n",
    "A6_list = [*range(1,26)]\n",
    "for i in A6_list:\n",
    "    if (i % 3 == 0):\n",
    "        print(f\"Element # {i} is Divisible by 3\")\n",
    "    else:\n",
    "        print(f\"Element # {i} is Not - Divisible by 3\")\n",
    "    \n",
    "        "
   ]
  },
  {
   "cell_type": "markdown",
   "id": "1c2063a3-3ceb-4c3d-af6a-47ecfa9122a3",
   "metadata": {},
   "source": [
    "---\n",
    "<b> Q7. What do you understand about mutable and immutable data types? Give examples for both showing \n",
    "this property. </b>"
   ]
  },
  {
   "cell_type": "markdown",
   "id": "70af65f0-d58c-47d0-b710-a3c30d4bc965",
   "metadata": {},
   "source": [
    "A7 </br>\n",
    "<b>Mutable Data Types </b> # Mutable Data Types are those in which value  a certain index can be changed. Eg:  List </br>\n",
    "<b>Immutable Data Types </b> # Immutable Data Types are those in which value  a certain index can not be changed. Eg:  String\n"
   ]
  },
  {
   "cell_type": "code",
   "execution_count": 17,
   "id": "9430f126-f18a-467a-937f-b6d068a54d3d",
   "metadata": {},
   "outputs": [
    {
     "data": {
      "text/plain": [
       "[1, 2, 3, 4, 5, 6]"
      ]
     },
     "execution_count": 17,
     "metadata": {},
     "output_type": "execute_result"
    }
   ],
   "source": [
    "# Mutable Data Type\n",
    "A7_List=[1,2,3,4,5,6]\n",
    "A7_List"
   ]
  },
  {
   "cell_type": "code",
   "execution_count": 18,
   "id": "402ab5b4-acd0-4d7a-99b5-1432452d4b98",
   "metadata": {},
   "outputs": [
    {
     "data": {
      "text/plain": [
       "5"
      ]
     },
     "execution_count": 18,
     "metadata": {},
     "output_type": "execute_result"
    }
   ],
   "source": [
    "A7_List[4]"
   ]
  },
  {
   "cell_type": "code",
   "execution_count": 19,
   "id": "6ef61f21-1b3b-4d45-ae64-0617309618c9",
   "metadata": {},
   "outputs": [
    {
     "data": {
      "text/plain": [
       "10"
      ]
     },
     "execution_count": 19,
     "metadata": {},
     "output_type": "execute_result"
    }
   ],
   "source": [
    "A7_List[4] = 10\n",
    "A7_List[4]"
   ]
  },
  {
   "cell_type": "code",
   "execution_count": 20,
   "id": "6e80259f-8ee3-4222-a5a8-ef61d47e236b",
   "metadata": {},
   "outputs": [
    {
     "data": {
      "text/plain": [
       "[1, 2, 3, 4, 10, 6]"
      ]
     },
     "execution_count": 20,
     "metadata": {},
     "output_type": "execute_result"
    }
   ],
   "source": [
    "A7_List"
   ]
  },
  {
   "cell_type": "code",
   "execution_count": 21,
   "id": "6b4ed2ac-60fb-408d-af2f-329a1e976f12",
   "metadata": {},
   "outputs": [
    {
     "data": {
      "text/plain": [
       "'Hello World'"
      ]
     },
     "execution_count": 21,
     "metadata": {},
     "output_type": "execute_result"
    }
   ],
   "source": [
    "# Immutable Data Type\n",
    "A7_String=\"Hello World\"\n",
    "A7_String"
   ]
  },
  {
   "cell_type": "code",
   "execution_count": 22,
   "id": "9861c56c-6376-4440-9726-9117aef783f0",
   "metadata": {},
   "outputs": [
    {
     "data": {
      "text/plain": [
       "'d'"
      ]
     },
     "execution_count": 22,
     "metadata": {},
     "output_type": "execute_result"
    }
   ],
   "source": [
    "A7_String[10]"
   ]
  },
  {
   "cell_type": "code",
   "execution_count": 23,
   "id": "900226e6-6ef6-4fcd-83b6-e4f42714f5e0",
   "metadata": {},
   "outputs": [
    {
     "ename": "TypeError",
     "evalue": "'str' object does not support item assignment",
     "output_type": "error",
     "traceback": [
      "\u001b[0;31m---------------------------------------------------------------------------\u001b[0m",
      "\u001b[0;31mTypeError\u001b[0m                                 Traceback (most recent call last)",
      "Cell \u001b[0;32mIn[23], line 1\u001b[0m\n\u001b[0;32m----> 1\u001b[0m \u001b[43mA7_String\u001b[49m\u001b[43m[\u001b[49m\u001b[38;5;241;43m10\u001b[39;49m\u001b[43m]\u001b[49m\u001b[38;5;241m=\u001b[39m\u001b[38;5;124m'\u001b[39m\u001b[38;5;124mb\u001b[39m\u001b[38;5;124m'\u001b[39m\n",
      "\u001b[0;31mTypeError\u001b[0m: 'str' object does not support item assignment"
     ]
    }
   ],
   "source": [
    "A7_String[10]='b'"
   ]
  },
  {
   "cell_type": "code",
   "execution_count": null,
   "id": "7442a43e-77b0-47d2-be5f-2ed6210d8b7b",
   "metadata": {},
   "outputs": [],
   "source": []
  }
 ],
 "metadata": {
  "kernelspec": {
   "display_name": "Python 3 (ipykernel)",
   "language": "python",
   "name": "python3"
  },
  "language_info": {
   "codemirror_mode": {
    "name": "ipython",
    "version": 3
   },
   "file_extension": ".py",
   "mimetype": "text/x-python",
   "name": "python",
   "nbconvert_exporter": "python",
   "pygments_lexer": "ipython3",
   "version": "3.10.8"
  }
 },
 "nbformat": 4,
 "nbformat_minor": 5
}
