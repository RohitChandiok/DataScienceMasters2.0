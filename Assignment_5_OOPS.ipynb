{
 "cells": [
  {
   "cell_type": "markdown",
   "id": "56ed92f8-5503-44a1-bbb6-ba639c4b84b1",
   "metadata": {},
   "source": [
    "# Assignment-5 OOPS"
   ]
  },
  {
   "cell_type": "markdown",
   "id": "782d18ab-a161-4590-a1d6-e63675ee53b7",
   "metadata": {},
   "source": [
    "<b>Q1. Explain Class and Object with respect to Object-Oriented Programming. Give a suitable example. </b>"
   ]
  },
  {
   "cell_type": "markdown",
   "id": "c563d06a-8839-4ddb-9fe9-e0de9737cb0e",
   "metadata": {},
   "source": [
    "A1"
   ]
  },
  {
   "cell_type": "markdown",
   "id": "176d2e44-1c28-418e-bbde-dd2e2de32d8e",
   "metadata": {},
   "source": [
    "---\n",
    "<b>Q2. Name the four pillars of OOPs.</b>"
   ]
  },
  {
   "cell_type": "markdown",
   "id": "5f57d683-b6a3-4fae-bc88-4243b9d13431",
   "metadata": {},
   "source": [
    "A2 \n",
    "\n",
    "The following are the four Pillors of OOPs\n",
    "\n",
    "1. Abstraction.\n",
    "2. Encapsulation.\n",
    "3. Inheritance.\n",
    "4. Polymorphism."
   ]
  },
  {
   "cell_type": "markdown",
   "id": "b1a04f65-edb1-4048-8e5d-2f8ff52f800b",
   "metadata": {},
   "source": [
    "---\n",
    "<b>Q3. Explain why the __init__() function is used. Give a suitable example. </b>"
   ]
  },
  {
   "cell_type": "markdown",
   "id": "4b36b9c8-fb45-4a69-a584-949a48457b82",
   "metadata": {},
   "source": [
    "A3 \n",
    "\n",
    "init() function is used to initialize variables in a class. The following is the syntax for the same\n",
    "        \n"
   ]
  },
  {
   "cell_type": "code",
   "execution_count": 4,
   "id": "875df042-50fb-4eb5-8118-6d2dda3d3933",
   "metadata": {},
   "outputs": [],
   "source": [
    "class Person:\n",
    "    def __init__(self, name, address):\n",
    "        self.name=name\n",
    "        self.address=address"
   ]
  },
  {
   "cell_type": "code",
   "execution_count": 5,
   "id": "65d48c9e-dc14-4f7d-8bec-36befddebf73",
   "metadata": {},
   "outputs": [],
   "source": [
    "P1=Person(\"Rohit\",\"Delhi\")"
   ]
  },
  {
   "cell_type": "code",
   "execution_count": 6,
   "id": "87c56d17-d616-4ff5-bc1f-502ce0f491e7",
   "metadata": {},
   "outputs": [
    {
     "data": {
      "text/plain": [
       "'Rohit'"
      ]
     },
     "execution_count": 6,
     "metadata": {},
     "output_type": "execute_result"
    }
   ],
   "source": [
    "P1.name"
   ]
  },
  {
   "cell_type": "code",
   "execution_count": 7,
   "id": "a8cac6e7-5e27-4a86-9fb9-8e2e6268ae2a",
   "metadata": {},
   "outputs": [
    {
     "data": {
      "text/plain": [
       "'Delhi'"
      ]
     },
     "execution_count": 7,
     "metadata": {},
     "output_type": "execute_result"
    }
   ],
   "source": [
    "P1.address"
   ]
  },
  {
   "cell_type": "markdown",
   "id": "eebbb5ee-903d-485b-9906-aa4ee1efeeab",
   "metadata": {},
   "source": [
    "---\n",
    "Q4. Why self is used in OOPs?"
   ]
  },
  {
   "cell_type": "markdown",
   "id": "f7b29484-dec8-4916-b805-64f44513629a",
   "metadata": {},
   "source": [
    "A4 </br>\n",
    "\"self\" is used as a reference to the current class. SELF represents the instance of class. This handy keyword allows you to access variables, attributes, and methods of a defined class in Python. The self parameter doesn't have to be named “self,” as you can call it by any other name."
   ]
  },
  {
   "cell_type": "markdown",
   "id": "728643bd-e59b-4450-961d-a9dd731a36d4",
   "metadata": {},
   "source": [
    "---\n",
    "Q5. What is inheritance? Give an example for each type of inheritance."
   ]
  },
  {
   "cell_type": "markdown",
   "id": "d0017ed0-cb8b-469a-9be9-e588fc251584",
   "metadata": {},
   "source": [
    "A5 </br>\n",
    "Inheritance allows to create a hierarchy of classes that share a set of properties and methods by deriving a class from another class. Inheritance is the capability of one class to derive or inherit the properties from another class. \n",
    "\n",
    "Types of Inheritance are as follows :- \n",
    "\n",
    "1. Single Inheritance\n",
    "2. Multiple Inheritance\n",
    "3. Multi-Level Inheritance"
   ]
  },
  {
   "cell_type": "code",
   "execution_count": 23,
   "id": "f4791866-d454-4a00-bb42-554f4c5c2d9d",
   "metadata": {},
   "outputs": [],
   "source": [
    "# Single Inheritance\n",
    "\n",
    "class Parent():\n",
    "    def PrintParentName(self):\n",
    "        return \"Parent\"\n",
    "\n",
    "class Child(Parent):\n",
    "    def PrintChildName(self):\n",
    "        return \"Child\""
   ]
  },
  {
   "cell_type": "code",
   "execution_count": 24,
   "id": "b2c8164c-332f-4a4c-b6e1-5d250f56cfc6",
   "metadata": {},
   "outputs": [
    {
     "name": "stdout",
     "output_type": "stream",
     "text": [
      "Parent\n",
      "Child\n",
      "Parent\n"
     ]
    }
   ],
   "source": [
    "P = Parent()\n",
    "C = Child()\n",
    "\n",
    "print(P.PrintParentName())\n",
    "print(C.PrintChildName())\n",
    "print(C.PrintParentName())"
   ]
  },
  {
   "cell_type": "code",
   "execution_count": 25,
   "id": "c08b6189-2972-4c9a-ae83-b48d49f239c3",
   "metadata": {},
   "outputs": [],
   "source": [
    "# Multiple Inheritance\n",
    "\n",
    "class Parent1():\n",
    "    def PrintParent1Name(self):\n",
    "        return \"Parent1\"\n",
    "\n",
    "class Parent2():\n",
    "    def PrintParent2Name(self):\n",
    "        return \"Parent2\"\n",
    "\n",
    "    \n",
    "class Child(Parent1, Parent2):\n",
    "    def PrintChildName(self):\n",
    "        return \"Child\""
   ]
  },
  {
   "cell_type": "code",
   "execution_count": 27,
   "id": "9e034da5-0ce6-46d6-ac92-252039ad4341",
   "metadata": {},
   "outputs": [
    {
     "name": "stdout",
     "output_type": "stream",
     "text": [
      "Parent1\n",
      "Parent2\n",
      "Child\n",
      "Parent1\n",
      "Parent2\n"
     ]
    }
   ],
   "source": [
    "P1 = Parent1()\n",
    "P2 = Parent2()\n",
    "C = Child()\n",
    "\n",
    "print(P1.PrintParent1Name())\n",
    "print(P2.PrintParent2Name())\n",
    "print(C.PrintChildName())\n",
    "print(C.PrintParent1Name())\n",
    "print(C.PrintParent2Name())"
   ]
  },
  {
   "cell_type": "code",
   "execution_count": 28,
   "id": "00a83433-420d-47d5-8163-d7322f6d451a",
   "metadata": {},
   "outputs": [],
   "source": [
    "# Multi Level Inheritance\n",
    "\n",
    "class User1():\n",
    "    def PrintUser1Name(self):\n",
    "        return \"User1\"\n",
    "\n",
    "class User2(User1):\n",
    "    def PrintUser2Name(self):\n",
    "        return \"User2\"\n",
    "    \n",
    "class User3(User2):\n",
    "    def PrintUser3Name(self):\n",
    "        return \"User3\""
   ]
  },
  {
   "cell_type": "code",
   "execution_count": 29,
   "id": "80ab844e-8a71-429d-b04b-bc0dbcec3eb6",
   "metadata": {},
   "outputs": [
    {
     "name": "stdout",
     "output_type": "stream",
     "text": [
      "User1\n",
      "User1\n",
      "User2\n",
      "User1\n",
      "User2\n",
      "User3\n"
     ]
    }
   ],
   "source": [
    "U1 = User1()\n",
    "U2 = User2()\n",
    "U3 = User3()\n",
    "\n",
    "print(U1.PrintUser1Name())\n",
    "print(U2.PrintUser1Name())\n",
    "print(U2.PrintUser2Name())\n",
    "print(U3.PrintUser1Name())\n",
    "print(U3.PrintUser2Name())\n",
    "print(U3.PrintUser3Name())"
   ]
  },
  {
   "cell_type": "code",
   "execution_count": null,
   "id": "1815855e-3eac-4196-919f-b5ebd45d3ff4",
   "metadata": {},
   "outputs": [],
   "source": []
  }
 ],
 "metadata": {
  "kernelspec": {
   "display_name": "Python 3 (ipykernel)",
   "language": "python",
   "name": "python3"
  },
  "language_info": {
   "codemirror_mode": {
    "name": "ipython",
    "version": 3
   },
   "file_extension": ".py",
   "mimetype": "text/x-python",
   "name": "python",
   "nbconvert_exporter": "python",
   "pygments_lexer": "ipython3",
   "version": "3.10.8"
  }
 },
 "nbformat": 4,
 "nbformat_minor": 5
}
